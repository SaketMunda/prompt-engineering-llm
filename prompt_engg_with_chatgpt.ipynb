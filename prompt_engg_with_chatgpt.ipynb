{
  "nbformat": 4,
  "nbformat_minor": 0,
  "metadata": {
    "colab": {
      "provenance": [],
      "authorship_tag": "ABX9TyMH02wyH+0GMBuVP5j++mhi",
      "include_colab_link": true
    },
    "kernelspec": {
      "name": "python3",
      "display_name": "Python 3"
    },
    "language_info": {
      "name": "python"
    }
  },
  "cells": [
    {
      "cell_type": "markdown",
      "metadata": {
        "id": "view-in-github",
        "colab_type": "text"
      },
      "source": [
        "<a href=\"https://colab.research.google.com/github/SaketMunda/prompt-engineering-llm/blob/master/prompt_engg_with_chatgpt.ipynb\" target=\"_parent\"><img src=\"https://colab.research.google.com/assets/colab-badge.svg\" alt=\"Open In Colab\"/></a>"
      ]
    },
    {
      "cell_type": "markdown",
      "source": [
        "# Prompt Engineering with [ChatGPT from OpenAI](https://platform.openai.com/docs/guides/gpt)\n",
        "\n",
        "\n",
        "> What is Prompt Engineering ?\n",
        "\n",
        "*Prompts are basically some instructions given to deep learning models through texts in english or using some identifiers like keywords or special characters as an input to bring results from deep learning model as an output.*\n",
        "\n",
        "*In the market there are some models like ChatGPT, BardAI and Midjourney and many more which accepts prompts as Input and give results based on the input as outputs like a text of paragraphs or set of python code or an image of Monalisa, it's based on the model you're prompting on.*\n",
        "\n",
        "> What are LLMs ?\n",
        "\n",
        "*LLMs, Large Language Model are machine learning models that use deep learning algorithms to process and understand natural language inputs and generate the results in text form or natural language.*\n",
        "\n",
        "\n",
        "> What is ChatGPT ?\n",
        "\n",
        "*ChatGPT is also a LLM which is been trained by OpenAI to follow an instruction in a prompt and provide a detailed response.*\n",
        "\n",
        "*Chat Generative Pre-trained Transformer is the full-form.*\n",
        "\n",
        "Further readings: https://openai.com/chatgpt\n",
        "\n",
        "\n",
        "\n",
        "\n"
      ],
      "metadata": {
        "id": "H6gpNmS_N3Jo"
      }
    },
    {
      "cell_type": "markdown",
      "source": [
        "## Guidelines for Prompting"
      ],
      "metadata": {
        "id": "thpRv1OkOpLr"
      }
    }
  ]
}